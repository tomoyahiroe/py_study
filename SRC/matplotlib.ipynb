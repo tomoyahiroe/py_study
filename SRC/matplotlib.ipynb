{
 "cells": [
  {
   "cell_type": "code",
   "execution_count": null,
   "metadata": {},
   "outputs": [],
   "source": [
    "import matplotlib.pyplot as plt\n",
    "import numpy as np\n",
    "\n",
    "\n",
    "%matplotlib inline"
   ]
  },
  {
   "cell_type": "code",
   "execution_count": null,
   "metadata": {},
   "outputs": [],
   "source": [
    "data = np.random.randint(0, 100, size=(50,2))\n",
    "data[:5]"
   ]
  },
  {
   "cell_type": "code",
   "execution_count": null,
   "metadata": {},
   "outputs": [],
   "source": [
    "plt.plot(data)"
   ]
  },
  {
   "cell_type": "code",
   "execution_count": null,
   "metadata": {},
   "outputs": [],
   "source": [
    "data = np.random.randint(0,50,size=(2,100))\n",
    "data"
   ]
  },
  {
   "cell_type": "code",
   "execution_count": null,
   "metadata": {},
   "outputs": [],
   "source": [
    "plt.scatter(data[0], data[1]) # *dataでもいける\n"
   ]
  },
  {
   "cell_type": "code",
   "execution_count": null,
   "metadata": {},
   "outputs": [],
   "source": [
    "# 棒グラフ\n",
    "x = np.array([1,2,3,4,5])\n",
    "data = np.random.randint(0,100,size=(5,))\n",
    "labels = ['Math', 'Phisics', 'Chemistry', 'English', 'History']\n"
   ]
  },
  {
   "cell_type": "code",
   "execution_count": null,
   "metadata": {},
   "outputs": [],
   "source": [
    "plt.barh(x, data, tick_label=labels)"
   ]
  },
  {
   "cell_type": "code",
   "execution_count": null,
   "metadata": {},
   "outputs": [],
   "source": [
    "# ヒストグラム\n",
    "data = np.random.randint(0,100,size=(100,))\n",
    "plt.hist(data, bins=20)"
   ]
  },
  {
   "cell_type": "code",
   "execution_count": null,
   "metadata": {},
   "outputs": [],
   "source": [
    "# タイトルと判例\n",
    "male_height = np.random.randint(150, 200,size=(50,))\n",
    "male_weight = np.random.randint(50, 100,size=(50,))\n",
    "female_height = np.random.randint(140, 180, size=(50,))\n",
    "female_weight = np.random.randint(40, 90, size=(50,))"
   ]
  },
  {
   "cell_type": "code",
   "execution_count": null,
   "metadata": {},
   "outputs": [],
   "source": [
    "plt.scatter(male_height, male_weight, label=\"male\", color=\"skyblue\", marker=\"x\")\n",
    "plt.scatter(female_height, female_weight, label=\"female\", color=\"pink\", marker=\">\")\n",
    "plt.title(\"Height and Weight\")\n",
    "plt.legend()\n",
    "plt.xlabel('Height [cm]')\n",
    "plt.ylabel('Weight [kg]')\n",
    "plt.xlim(110, 210)\n",
    "plt.ylim(20,120)\n",
    "# plt.savefig('sample.png')"
   ]
  },
  {
   "cell_type": "code",
   "execution_count": null,
   "metadata": {},
   "outputs": [],
   "source": []
  }
 ],
 "metadata": {
  "kernelspec": {
   "display_name": "Python 3.10.6 ('venv': venv)",
   "language": "python",
   "name": "python3"
  },
  "language_info": {
   "codemirror_mode": {
    "name": "ipython",
    "version": 3
   },
   "file_extension": ".py",
   "mimetype": "text/x-python",
   "name": "python",
   "nbconvert_exporter": "python",
   "pygments_lexer": "ipython3",
   "version": "3.10.6"
  },
  "orig_nbformat": 4,
  "vscode": {
   "interpreter": {
    "hash": "648e716976d76496926f82bd6fef21147727e81efc0293ed56202fbe78d21517"
   }
  }
 },
 "nbformat": 4,
 "nbformat_minor": 2
}
