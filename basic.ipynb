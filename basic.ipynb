{
 "cells": [
  {
   "cell_type": "code",
   "execution_count": null,
   "metadata": {},
   "outputs": [],
   "source": [
    "name = 'tomoyahiroe'\n",
    "birth_place = 'Osaka'\n",
    "'私は{}です。出身は{}です。'.format(name, birth_place)"
   ]
  },
  {
   "cell_type": "code",
   "execution_count": null,
   "metadata": {},
   "outputs": [],
   "source": [
    "f'私は{name}です。出身は{birth_place}です。'"
   ]
  },
  {
   "cell_type": "code",
   "execution_count": null,
   "metadata": {},
   "outputs": [],
   "source": [
    "print('こんにちは。\\nさようなら')"
   ]
  },
  {
   "cell_type": "code",
   "execution_count": null,
   "metadata": {},
   "outputs": [],
   "source": [
    "# 書式化\n",
    "print(\"10進数=%d, 16進数=%x, 10進数不動小数点=%f\" % (16,16,16))"
   ]
  },
  {
   "cell_type": "code",
   "execution_count": null,
   "metadata": {},
   "outputs": [],
   "source": [
    "# 文字列の分割\n",
    "message = 'こんにちは。\\n良い天気ですね。'\n",
    "print(message)\n",
    "message.split('\\n')\n",
    "#文字列の結合\n",
    "messages = message.split('\\n')\n",
    "''.join(messages)\n",
    "# 空白除去\n",
    "message = ' 空白が左右にあります。 '\n",
    "print(message.strip())\n",
    "# 文字列の置換\n",
    "message = '今日は晴れですね'\n",
    "message.replace('晴れ', '雨')\n",
    "# 文字列検索\n",
    "message = '隣の客はよく柿食う客だ'\n",
    "message.find('柿')\n",
    "# 文字列に置換\n",
    "x = 123\n",
    "y = [1,2,3]\n",
    "z = dict(key='123', hole=\"456\")\n",
    "str(x)\n",
    "# 包含関係\n",
    "a,b = 'abc', 'abcd'\n",
    "a in b"
   ]
  },
  {
   "cell_type": "code",
   "execution_count": null,
   "metadata": {},
   "outputs": [],
   "source": [
    "# 配列の要素指定\n",
    "numbers = [0, 3, 8, -4, 9, 1]\n",
    "print(f'元の配列は、{numbers}です')\n",
    "## print(numbers[1], numbers[-1])\n",
    "# 配列の要素を追加\n",
    "numbers.insert(0, 5) # 第一引数で指定した要素の手前に第二引数で指定した要素を挿入する\n",
    "numbers.insert(-1, -3)\n",
    "print(f'要素を追加して配列は{numbers}となりました')\n",
    "# 配列の値を削除\n",
    "numbers.remove(3) #消したい要素そのものを指定\n",
    "print(f'3を消しました\\n配列は{numbers}となります。')\n",
    "numbers.pop(-2) #消したい要素の番号を指定\n",
    "print(f'後ろから2番目の要素を消しました。\\n配列は{numbers}となります。')\n",
    "# 配列(リスト)から特定の条件の要素を取得し新しい配列を作成する\n",
    "def isEven(number):\n",
    "  if number % 2 == 0:\n",
    "    # print(f'This number, {number} is even!!')\n",
    "    return True\n",
    "  else:\n",
    "    # print(f'This number, {number} is odd!!')\n",
    "    return False\n",
    "even_number = list(filter(isEven, numbers))\n",
    "print(f'偶数配列は{even_number}です。')\n",
    "# 要素のインデックスを取得\n",
    "print(f'numbers配列の要素-4の要素番号は、{numbers.index(-4)}です')\n",
    "# 配列のソート\n",
    "numbers.sort() #デフォルトは昇順\n",
    "numbers.sort(reverse=True) #降順\n",
    "print(numbers)"
   ]
  },
  {
   "cell_type": "code",
   "execution_count": null,
   "metadata": {},
   "outputs": [],
   "source": []
  },
  {
   "cell_type": "code",
   "execution_count": null,
   "metadata": {},
   "outputs": [],
   "source": []
  },
  {
   "cell_type": "code",
   "execution_count": null,
   "metadata": {},
   "outputs": [],
   "source": []
  },
  {
   "cell_type": "code",
   "execution_count": null,
   "metadata": {},
   "outputs": [],
   "source": []
  },
  {
   "cell_type": "code",
   "execution_count": null,
   "metadata": {},
   "outputs": [],
   "source": []
  }
 ],
 "metadata": {
  "kernelspec": {
   "display_name": "Python 3.8.9 64-bit",
   "language": "python",
   "name": "python3"
  },
  "language_info": {
   "codemirror_mode": {
    "name": "ipython",
    "version": 3
   },
   "file_extension": ".py",
   "mimetype": "text/x-python",
   "name": "python",
   "nbconvert_exporter": "python",
   "pygments_lexer": "ipython3",
   "version": "3.8.9"
  },
  "orig_nbformat": 4,
  "vscode": {
   "interpreter": {
    "hash": "31f2aee4e71d21fbe5cf8b01ff0e069b9275f58929596ceb00d14d90e3e16cd6"
   }
  }
 },
 "nbformat": 4,
 "nbformat_minor": 2
}
