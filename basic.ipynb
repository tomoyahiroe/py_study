{
 "cells": [
  {
   "cell_type": "code",
   "execution_count": null,
   "metadata": {},
   "outputs": [],
   "source": [
    "name = 'tomoyahiroe'\n",
    "birth_place = 'Osaka'\n",
    "'私は{}です。出身は{}です。'.format(name, birth_place)"
   ]
  },
  {
   "cell_type": "code",
   "execution_count": null,
   "metadata": {},
   "outputs": [],
   "source": [
    "f'私は{name}です。出身は{birth_place}です。'"
   ]
  },
  {
   "cell_type": "code",
   "execution_count": null,
   "metadata": {},
   "outputs": [],
   "source": [
    "print('こんにちは。\\nさようなら')"
   ]
  },
  {
   "cell_type": "code",
   "execution_count": null,
   "metadata": {},
   "outputs": [],
   "source": [
    "# 書式化\n",
    "print(\"10進数=%d, 16進数=%x, 10進数不動小数点=%f\" % (16,16,16))"
   ]
  },
  {
   "cell_type": "code",
   "execution_count": null,
   "metadata": {},
   "outputs": [],
   "source": [
    "# 文字列の分割\n",
    "message = 'こんにちは。\\n良い天気ですね。'\n",
    "print(message)\n",
    "message.split('\\n')\n",
    "#文字列の結合\n",
    "messages = message.split('\\n')\n",
    "''.join(messages)\n",
    "# 空白除去\n",
    "message = ' 空白が左右にあります。 '\n",
    "print(message.strip())\n",
    "# 文字列の置換\n",
    "message = '今日は晴れですね'\n",
    "message.replace('晴れ', '雨')\n",
    "# 文字列検索\n",
    "message = '隣の客はよく柿食う客だ'\n",
    "message.find('柿')\n",
    "# 文字列に置換\n",
    "x = 123\n",
    "y = [1,2,3]\n",
    "z = dict(key='123', hole=\"456\")\n",
    "str(x)\n",
    "# 包含関係\n",
    "a,b = 'abc', 'abcd'\n",
    "a in b"
   ]
  },
  {
   "cell_type": "code",
   "execution_count": null,
   "metadata": {},
   "outputs": [],
   "source": [
    "# 配列の要素指定\n",
    "numbers = [0, 3, 8, -4, 9, 1]\n",
    "print(f'元の配列は、{numbers}です')\n",
    "## print(numbers[1], numbers[-1])\n",
    "# 配列の要素を追加\n",
    "numbers.insert(0, 5) # 第一引数で指定した要素の手前に第二引数で指定した要素を挿入する\n",
    "numbers.insert(-1, -3)\n",
    "print(f'要素を追加して配列は{numbers}となりました')\n",
    "# 配列の値を削除\n",
    "numbers.remove(3) #消したい要素そのものを指定\n",
    "print(f'3を消しました\\n配列は{numbers}となります。')\n",
    "numbers.pop(-2) #消したい要素の番号を指定\n",
    "print(f'後ろから2番目の要素を消しました。\\n配列は{numbers}となります。')\n",
    "# 配列(リスト)から特定の条件の要素を取得し新しい配列を作成する\n",
    "def isEven(number):\n",
    "  if number % 2 == 0:\n",
    "    # print(f'This number, {number} is even!!')\n",
    "    return True\n",
    "  else:\n",
    "    # print(f'This number, {number} is odd!!')\n",
    "    return False\n",
    "even_number = list(filter(isEven, numbers))\n",
    "print(f'偶数配列は{even_number}です。')\n",
    "# 要素のインデックスを取得\n",
    "print(f'numbers配列の要素-4の要素番号は、{numbers.index(-4)}です')\n",
    "# 配列のソート\n",
    "numbers.sort() #デフォルトは昇順\n",
    "numbers.sort(reverse=True) #降順\n",
    "print(numbers)"
   ]
  },
  {
   "cell_type": "code",
   "execution_count": null,
   "metadata": {},
   "outputs": [],
   "source": [
    "# 辞書\n",
    "dictionary = {\n",
    "  'A': 'shion', \n",
    "  'B': 'kurikin',\n",
    "  'C': 'iihara',\n",
    "  'D': 'kiyo',\n",
    "  'E': 'eikichi',\n",
    "}\n",
    "# dictionary.pop('A')\n",
    "# dictionary.clear() # 全て削除\n",
    "## 情報の取得\n",
    "dictionary.keys()\n",
    "dictionary.values()\n",
    "'shion' in dictionary.values()\n",
    "## for文ぶん回す\n",
    "for key, value in dictionary.items():\n",
    "  print(f'キーは{key}、値は{value}')\n",
    "## 要素の取得 dictionary['A']以外の\n",
    "dictionary.get('A')"
   ]
  },
  {
   "cell_type": "code",
   "execution_count": null,
   "metadata": {},
   "outputs": [],
   "source": [
    "# if文\n",
    "num = -1\n",
    "if num > 0:\n",
    "  print(f'{num}は正の値です')\n",
    "elif num == 0:\n",
    "  print(f'{num}は０です。')\n",
    "else:\n",
    "  print(f'{num}は、負の値です。')\n",
    "## 論理演算子とif文\n",
    "a = 3\n",
    "if 0 <= a < 10 and a % 2 == 0:\n",
    "  print(f'一桁の偶数です')\n",
    "elif a < 0 and a % 2 != 0:\n",
    "  print(f'負の奇数です')\n",
    "else:\n",
    "  print('整数です。')"
   ]
  },
  {
   "cell_type": "code",
   "execution_count": null,
   "metadata": {},
   "outputs": [],
   "source": [
    "# for 文\n",
    "names = ['tomoya', 'eikichi', 'shion', 'yamashita']\n",
    "for name in names:\n",
    "  print(name)\n",
    "## range\n",
    "for i in range(10,20):\n",
    "  print(i)\n",
    "## break\n",
    "for i in range(10):\n",
    "  if i == 6:\n",
    "    print('終了')\n",
    "    break\n",
    "  print(i)"
   ]
  },
  {
   "cell_type": "code",
   "execution_count": null,
   "metadata": {},
   "outputs": [],
   "source": [
    "## continue\n",
    "for i in range(10):\n",
    "  if i == 3:\n",
    "    continue\n",
    "  print(i)\n"
   ]
  },
  {
   "cell_type": "code",
   "execution_count": null,
   "metadata": {},
   "outputs": [],
   "source": [
    "## zip, enumerate\n",
    "lasts = ['hiroe', 'ichikawa', 'nomura']\n",
    "firsts = ['tomoya', 'shion', 'eikichi']\n",
    "for last, first in zip(lasts, firsts):\n",
    "  print(f'私は{last} {first}です。')\n",
    "for i, last in enumerate(lasts):\n",
    "  print(i, last)\n",
    "## for文で配列を作成\n",
    "# list = []\n",
    "# for i in range(10):\n",
    "#   if i % 2 == 0:\n",
    "#     list.append(i)\n",
    "list = [2*i for i in range(5)] # 内包表記\n",
    "list"
   ]
  },
  {
   "cell_type": "code",
   "execution_count": null,
   "metadata": {},
   "outputs": [],
   "source": [
    "#例外処理\n",
    "num = 0\n",
    "try:\n",
    "  print(f'計算結果: {10/num}')\n",
    "except ZeroDivisionError as e:\n",
    "  print(e)\n",
    "## エラーごとの例外処理\n",
    "def divide(a, b):\n",
    "  try:\n",
    "    print(f'計算結果: {a/b}')\n",
    "  except ZeroDivisionError as e:\n",
    "    print(f'ZeroDivisionError: {e}')\n",
    "  except TypeError as e:\n",
    "    print(f'TypeError: {e}')\n",
    "  else:\n",
    "    print('正常に終了しました')\n",
    "divide(10,4)\n",
    "## finally\n",
    "def divide(a, b):\n",
    "  try:\n",
    "    print(f'計算結果: {a/b}')\n",
    "  except ZeroDivisionError as e:\n",
    "    print(f'ZeroDivisionError: {e}')\n",
    "  except TypeError as e:\n",
    "    print(f'TypeError: {e}')\n",
    "  finally:\n",
    "    print('すべての処理が終了しました')\n",
    "divide(10,'string')\n",
    "## passによるTypeError時の無視\n",
    "def divide(a, b):\n",
    "  try:\n",
    "    print(f'計算結果: {a/b}')\n",
    "  except ZeroDivisionError as e:\n",
    "    print(f'ZeroDivisionError: {e}')\n",
    "  except TypeError as e:\n",
    "    pass\n",
    "  finally:\n",
    "    print('すべての処理が終了しました')\n",
    "divide(10,'string')"
   ]
  },
  {
   "cell_type": "code",
   "execution_count": null,
   "metadata": {},
   "outputs": [],
   "source": [
    "# CLASS\n",
    "class Person:\n",
    "  nationality = 'Japan'\n",
    "  \n",
    "  def __init__(self, name):\n",
    "    self.name = name\n",
    "  \n",
    "  def say_hello(self):\n",
    "    print(f'私の国籍は{self.nationality}です。')\n",
    "    \n",
    "  def say_my_name(self):\n",
    "    print(f'私の名前は{self.name}です。')\n",
    "  \n",
    "person = Person('tomoyahiroe')\n",
    "person.nationality\n",
    "person.say_hello()\n",
    "person.name\n",
    "person.say_my_name()\n",
    "## クラスの継承\n",
    "class Kid(Person):\n",
    "  def say_hello(self, age):\n",
    "    print(f'私の名前は{self.name}です。年齢は{age}歳です。')\n",
    "kid = Kid('tomoya')\n",
    "kid.say_hello(9)"
   ]
  },
  {
   "cell_type": "code",
   "execution_count": null,
   "metadata": {},
   "outputs": [],
   "source": [
    "## private と public\n",
    "class Task:\n",
    "  status = 'open'\n",
    "  \n",
    "  def __init__(self, title):\n",
    "    self.__title = title\n",
    "  \n",
    "  def get_title(self):\n",
    "    print(f'The title of this task: {self.__title}')\n",
    "    \n",
    "  def get_status(self):\n",
    "    print(f'This task is {self.status}')\n",
    "      \n",
    "# task = Task('home work')\n",
    "# task.title\n",
    "# task.add_description('English report at least 300 words due to tomorrow')\n",
    "# task.get_description()"
   ]
  },
  {
   "cell_type": "code",
   "execution_count": null,
   "metadata": {},
   "outputs": [],
   "source": [
    "class DetailedTask(Task):\n",
    "  def get_info(self, description):\n",
    "    print(f'Title: {self.__title}\\nDescription: {description}')"
   ]
  },
  {
   "cell_type": "code",
   "execution_count": null,
   "metadata": {},
   "outputs": [],
   "source": [
    "task = DetailedTask('Homework')\n",
    "task.status\n",
    "# task.__title\n",
    "task.get_title()\n",
    "task.get_info('English report at least 300 words due to tomorrow')"
   ]
  },
  {
   "cell_type": "code",
   "execution_count": null,
   "metadata": {},
   "outputs": [],
   "source": [
    "# ファイル操作\n",
    "file = open('.gitignore')\n",
    "text = file.read()\n",
    "file.close\n",
    "print(text)"
   ]
  },
  {
   "cell_type": "code",
   "execution_count": null,
   "metadata": {},
   "outputs": [],
   "source": [
    "with open('.gitignore', 'r') as f:\n",
    "  text = f.read()\n",
    "print(text)\n"
   ]
  },
  {
   "cell_type": "code",
   "execution_count": 131,
   "metadata": {},
   "outputs": [
    {
     "data": {
      "text/plain": [
       "{'result_count': 100,\n",
       " 'newest_id': '1566327109533831168',\n",
       " 'oldest_id': '1501083730362105861',\n",
       " 'next_token': '7140dibdnow9c7btw420jlkrzlajvzxajak9p8zuqn41d'}"
      ]
     },
     "execution_count": 131,
     "metadata": {},
     "output_type": "execute_result"
    }
   ],
   "source": [
    "import json\n",
    "with open('./data/twitter.json', 'r') as f:\n",
    "  data = json.load(f)\n",
    "data['meta']"
   ]
  },
  {
   "cell_type": "code",
   "execution_count": null,
   "metadata": {},
   "outputs": [],
   "source": []
  },
  {
   "cell_type": "code",
   "execution_count": null,
   "metadata": {},
   "outputs": [],
   "source": []
  }
 ],
 "metadata": {
  "kernelspec": {
   "display_name": "Python 3.8.9 64-bit",
   "language": "python",
   "name": "python3"
  },
  "language_info": {
   "codemirror_mode": {
    "name": "ipython",
    "version": 3
   },
   "file_extension": ".py",
   "mimetype": "text/x-python",
   "name": "python",
   "nbconvert_exporter": "python",
   "pygments_lexer": "ipython3",
   "version": "3.8.9"
  },
  "orig_nbformat": 4,
  "vscode": {
   "interpreter": {
    "hash": "31f2aee4e71d21fbe5cf8b01ff0e069b9275f58929596ceb00d14d90e3e16cd6"
   }
  }
 },
 "nbformat": 4,
 "nbformat_minor": 2
}
